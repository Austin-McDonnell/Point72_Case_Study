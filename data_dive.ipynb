{
 "cells": [
  {
   "cell_type": "code",
   "execution_count": 40,
   "outputs": [],
   "source": [
    "import pandas as pd\n",
    "\n",
    "from utils import *\n",
    "from maps import GroceryStores\n",
    "import json"
   ],
   "metadata": {
    "collapsed": false,
    "pycharm": {
     "name": "#%%\n"
    }
   }
  },
  {
   "cell_type": "code",
   "execution_count": 25,
   "outputs": [],
   "source": [
    "nycmap = json.load(open(r\"C:\\Users\\austi\\Documents\\GitHub_Repos\\Public_Projects\\Case Studies\\P72\\data\\Borough Boundaries.geojson\"))"
   ],
   "metadata": {
    "collapsed": false,
    "pycharm": {
     "name": "#%%\n"
    }
   }
  },
  {
   "cell_type": "code",
   "execution_count": 26,
   "outputs": [
    {
     "data": {
      "text/plain": "[(0,\n  '2019-20_Demographic_Snapshot_-_Citywide',\n  WindowsPath('C:/Users/austi/Documents/GitHub_Repos/Public_Projects/Case Studies/P72/data/2019-20_Demographic_Snapshot_-_Citywide.csv')),\n (1,\n  'borough_zip_codes',\n  WindowsPath('C:/Users/austi/Documents/GitHub_Repos/Public_Projects/Case Studies/P72/data/borough_zip_codes.csv')),\n (2,\n  'Demographic_Statistics_By_Zip_Code',\n  WindowsPath('C:/Users/austi/Documents/GitHub_Repos/Public_Projects/Case Studies/P72/data/Demographic_Statistics_By_Zip_Code.csv')),\n (3,\n  'Neighborhood_Development_Area_Breakdowns',\n  WindowsPath('C:/Users/austi/Documents/GitHub_Repos/Public_Projects/Case Studies/P72/data/Neighborhood_Development_Area_Breakdowns.csv')),\n (4,\n  'Neighborhood_Financial_Health_Digital_Mapping_and_Data_Tool',\n  WindowsPath('C:/Users/austi/Documents/GitHub_Repos/Public_Projects/Case Studies/P72/data/Neighborhood_Financial_Health_Digital_Mapping_and_Data_Tool.csv')),\n (5,\n  'nyc_store_data_20230306-22_44_33',\n  WindowsPath('C:/Users/austi/Documents/GitHub_Repos/Public_Projects/Case Studies/P72/data/nyc_store_data_20230306-22_44_33.csv')),\n (6,\n  'nyc_store_data_20230307-21_18_27',\n  WindowsPath('C:/Users/austi/Documents/GitHub_Repos/Public_Projects/Case Studies/P72/data/nyc_store_data_20230307-21_18_27.csv'))]"
     },
     "execution_count": 26,
     "metadata": {},
     "output_type": "execute_result"
    }
   ],
   "source": [
    "data_set_paths = list(Path(r'C:\\Users\\austi\\Documents\\GitHub_Repos\\Public_Projects\\Case Studies\\P72\\data').glob('*.csv'))\n",
    "data_sets_and_names = [(i, p.stem, p) for i, p in enumerate(data_set_paths)]\n",
    "data_sets_and_names"
   ],
   "metadata": {
    "collapsed": false,
    "pycharm": {
     "name": "#%%\n"
    }
   }
  },
  {
   "cell_type": "code",
   "execution_count": 27,
   "outputs": [
    {
     "data": {
      "text/plain": "   Year Published  PUMA Borough                       Neighborhoods                       CD  Join  NYC_Poverty_Rate  Median_Income  Perc_White  Perc_Black  Perc_Asian  Perc_Other  Perc_Hispanic                Goal                    GoalName                                       GoalFullName  TotalOutcome GoalRank  \\\n0            2020  3701   Bronx  Riverdale, Fieldston & Kingsbridge  BX Community District 8  3701           0.15200          30437     0.32400     0.12400     0.05200     0.02300        0.47700        Build Assets        Goal 5: Build Assets  Goal 5: Opportunities to Build Assets & Plan f...      -0.46678       29   \n1            2020  3701   Bronx  Riverdale, Fieldston & Kingsbridge  BX Community District 8  3701           0.15200          30437     0.32400     0.12400     0.05200     0.02300        0.47700  Financial Services  Goal 1: Financial Services  Goal 1: Access to Affordable, High-Quality Fin...      -3.56042       40   \n2            2020  3701   Bronx  Riverdale, Fieldston & Kingsbridge  BX Community District 8  3701           0.15200          30437     0.32400     0.12400     0.05200     0.02300        0.47700    Financial Shocks    Goal 4: Financial Shocks  Goal 4: Stable Housing & Capacity to Limit Fin...       7.91170       10   \n3            2020  3701   Bronx  Riverdale, Fieldston & Kingsbridge  BX Community District 8  3701           0.15200          30437     0.32400     0.12400     0.05200     0.02300        0.47700    Goods & Services    Goal 2: Goods & Services  Goal 2: Access to Affordable, High-Quality Goo...       0.33472       19   \n4            2020  3701   Bronx  Riverdale, Fieldston & Kingsbridge  BX Community District 8  3701           0.15200          30437     0.32400     0.12400     0.05200     0.02300        0.47700       Jobs & Income       Goal 3: Jobs & Income   Goal 3: Access to Quality Jobs & Income Supports       1.78464       20   \n\n   IndexScore ScoreRank                                  Ind1  Ind1Outcome  Ind1Rank                                     Ind1Definition                         Ind2  Ind2Outcome  Ind2Rank                                     Ind2Definition                                          Ind3  Ind3Outcome  Ind3Rank  \\\n0     5.18472    Middle             Homeownership Opportunity        0.316  27.00000  Percentage of housing units that are owner-occ...          Neighborhood Tenure      0.65800  31.00000  Percentage of residents who have lived in thei...  Minority And Women-Owned Business Enterprise     23.67726  45.00000   \n1     1.91904    Bottom  Bank / Credit Union-To-Nonbank Ratio  0.125694444  24.00000  Ratio of banks & credit unions to check casher...  Bank / Credit Union Density      1.63919  27.00000  Number of bank and credit union branches per 1...                              IDNYC Acceptance      0.00000  28.00000   \n2     7.49132       Top         Ability To Borrow At Low Cost         0.64  21.00000  Percentage of residents with a prime or better...            Housing Stability      0.90800   3.00000  Percentage of rental housing units that are un...                       Health Insurance Access      0.90700  20.00000   \n3     4.58501    Middle                   Access To Groceries       206.27  14.00000       Supermarket square footage per 100 residents          Child Care Capacity      0.70504  15.00000  Percentage of 3- and 4-year-olds enrolled in e...                            Health Care Access      0.12000  38.00000   \n4     3.97086    Middle    Job Training And Placement Support            0  37.00000  Number of job training and placement programs ...   Jobs With Health Insurance      0.52198  17.00000  Percentage of the population that has health i...                     Labor Force Participation      0.63400  29.00000   \n\n                                      Ind3Definition                          Ind4                                        Ind4Outcome  Ind4Rank                                     Ind4Definition                             Ind5  Ind5Outcome  Ind5Rank                                     Ind5Definition  \\\n0  Number of NYC certified M/WBEs per 100,000 res...           Retirement Security                                             3.59:1  12.00000  Median income-to-poverty line ratio of residen...               Community Efficacy     24.13259  31.00000  Number of community and public institutions pe...   \n1  Percentage of bank & credit union branches tha...  Mortgage Origination By Race  Asian 6.23%; Black or African American (non-Hi...  34.00000  Racial/ethnic mix of mortgage loans originated...  Bank / Credit Union Utilization      0.88900  29.00000  Percentage of residents with a bank or credit ...   \n2      Percentage of residents with health insurance                   Rent Burden                                              0.535  22.00000  Percentage of households that pay more than 30...               Severe Rent Burden      0.28500  18.00000  Percentage of households that pay more than 50...   \n3  Percentage of adults who did not receive neede...    Cost Of Transportation ($)                                        671.6008333  42.00000  Average (mean) amount of money spent monthly o...       Cost Of Transportation (%)      0.13734  38.00000  Percentage of median household income spent on...   \n4  Percent of the non-institutionalized people ag...                   Job Quality                                        37514.89063  19.00000  Median income of neighborhood residents with 5...           Educational Attainment      0.77600  19.00000  Percentage of high school students who graduat...   \n\n                                    Ind6  Ind6Outcome  Ind6Rank                                     Ind6Definition                        Ind7  Ind7Outcome  Ind7Rank                                     Ind7Definition                             Ind8  Ind8Outcome  Ind8Rank  \\\n0  Small Business Employment Opportunity      0.23509  32.00000  Percentage of jobs in small businesses (less t...     Participatory Budgeting      0.07178  26.00000  Percentage of eligible residents casting a vot...                              NaN          NaN       NaN   \n1                    Affordable Products      0.38889  38.00000  Percentage of bank & credit union branches off...  Mobile Banking Utilization      0.20580  23.00000  Estimated percentage of residents that used mo...                              NaN          NaN       NaN   \n2                Pre-foreclosure Notices     37.00000  27.00000  Number of pre-foreclosure notices issued per 1...        Financial Counseling      0.00000  40.00000  Full-Time Equivalent Financial Counselors per ...                              NaN          NaN       NaN   \n3                   Journey To Work Time     44.50000  41.00000      Average (mean) travel time to work in minutes                         NaN          NaN       NaN                                                NaN                              NaN          NaN       NaN   \n4            Public Benefits Utilization      0.72400  28.00000  Percentage of people eligible for SNAP receivi...      Tax Credit Utilization      0.96600   9.00000     Percentage of eligible Tax Units claiming EITC  Adults With High School Diploma      0.84503  21.00000   \n\n                                      Ind8Definition  \n0                                                NaN  \n1                                                NaN  \n2                                                NaN  \n3                                                NaN  \n4  Percentage of adults with a high school degree...  ",
      "text/html": "<div>\n<style scoped>\n    .dataframe tbody tr th:only-of-type {\n        vertical-align: middle;\n    }\n\n    .dataframe tbody tr th {\n        vertical-align: top;\n    }\n\n    .dataframe thead th {\n        text-align: right;\n    }\n</style>\n<table border=\"1\" class=\"dataframe\">\n  <thead>\n    <tr style=\"text-align: right;\">\n      <th></th>\n      <th>Year Published</th>\n      <th>PUMA</th>\n      <th>Borough</th>\n      <th>Neighborhoods</th>\n      <th>CD</th>\n      <th>Join</th>\n      <th>NYC_Poverty_Rate</th>\n      <th>Median_Income</th>\n      <th>Perc_White</th>\n      <th>Perc_Black</th>\n      <th>Perc_Asian</th>\n      <th>Perc_Other</th>\n      <th>Perc_Hispanic</th>\n      <th>Goal</th>\n      <th>GoalName</th>\n      <th>GoalFullName</th>\n      <th>TotalOutcome</th>\n      <th>GoalRank</th>\n      <th>IndexScore</th>\n      <th>ScoreRank</th>\n      <th>Ind1</th>\n      <th>Ind1Outcome</th>\n      <th>Ind1Rank</th>\n      <th>Ind1Definition</th>\n      <th>Ind2</th>\n      <th>Ind2Outcome</th>\n      <th>Ind2Rank</th>\n      <th>Ind2Definition</th>\n      <th>Ind3</th>\n      <th>Ind3Outcome</th>\n      <th>Ind3Rank</th>\n      <th>Ind3Definition</th>\n      <th>Ind4</th>\n      <th>Ind4Outcome</th>\n      <th>Ind4Rank</th>\n      <th>Ind4Definition</th>\n      <th>Ind5</th>\n      <th>Ind5Outcome</th>\n      <th>Ind5Rank</th>\n      <th>Ind5Definition</th>\n      <th>Ind6</th>\n      <th>Ind6Outcome</th>\n      <th>Ind6Rank</th>\n      <th>Ind6Definition</th>\n      <th>Ind7</th>\n      <th>Ind7Outcome</th>\n      <th>Ind7Rank</th>\n      <th>Ind7Definition</th>\n      <th>Ind8</th>\n      <th>Ind8Outcome</th>\n      <th>Ind8Rank</th>\n      <th>Ind8Definition</th>\n    </tr>\n  </thead>\n  <tbody>\n    <tr>\n      <th>0</th>\n      <td>2020</td>\n      <td>3701</td>\n      <td>Bronx</td>\n      <td>Riverdale, Fieldston &amp; Kingsbridge</td>\n      <td>BX Community District 8</td>\n      <td>3701</td>\n      <td>0.15200</td>\n      <td>30437</td>\n      <td>0.32400</td>\n      <td>0.12400</td>\n      <td>0.05200</td>\n      <td>0.02300</td>\n      <td>0.47700</td>\n      <td>Build Assets</td>\n      <td>Goal 5: Build Assets</td>\n      <td>Goal 5: Opportunities to Build Assets &amp; Plan f...</td>\n      <td>-0.46678</td>\n      <td>29</td>\n      <td>5.18472</td>\n      <td>Middle</td>\n      <td>Homeownership Opportunity</td>\n      <td>0.316</td>\n      <td>27.00000</td>\n      <td>Percentage of housing units that are owner-occ...</td>\n      <td>Neighborhood Tenure</td>\n      <td>0.65800</td>\n      <td>31.00000</td>\n      <td>Percentage of residents who have lived in thei...</td>\n      <td>Minority And Women-Owned Business Enterprise</td>\n      <td>23.67726</td>\n      <td>45.00000</td>\n      <td>Number of NYC certified M/WBEs per 100,000 res...</td>\n      <td>Retirement Security</td>\n      <td>3.59:1</td>\n      <td>12.00000</td>\n      <td>Median income-to-poverty line ratio of residen...</td>\n      <td>Community Efficacy</td>\n      <td>24.13259</td>\n      <td>31.00000</td>\n      <td>Number of community and public institutions pe...</td>\n      <td>Small Business Employment Opportunity</td>\n      <td>0.23509</td>\n      <td>32.00000</td>\n      <td>Percentage of jobs in small businesses (less t...</td>\n      <td>Participatory Budgeting</td>\n      <td>0.07178</td>\n      <td>26.00000</td>\n      <td>Percentage of eligible residents casting a vot...</td>\n      <td>NaN</td>\n      <td>NaN</td>\n      <td>NaN</td>\n      <td>NaN</td>\n    </tr>\n    <tr>\n      <th>1</th>\n      <td>2020</td>\n      <td>3701</td>\n      <td>Bronx</td>\n      <td>Riverdale, Fieldston &amp; Kingsbridge</td>\n      <td>BX Community District 8</td>\n      <td>3701</td>\n      <td>0.15200</td>\n      <td>30437</td>\n      <td>0.32400</td>\n      <td>0.12400</td>\n      <td>0.05200</td>\n      <td>0.02300</td>\n      <td>0.47700</td>\n      <td>Financial Services</td>\n      <td>Goal 1: Financial Services</td>\n      <td>Goal 1: Access to Affordable, High-Quality Fin...</td>\n      <td>-3.56042</td>\n      <td>40</td>\n      <td>1.91904</td>\n      <td>Bottom</td>\n      <td>Bank / Credit Union-To-Nonbank Ratio</td>\n      <td>0.125694444</td>\n      <td>24.00000</td>\n      <td>Ratio of banks &amp; credit unions to check casher...</td>\n      <td>Bank / Credit Union Density</td>\n      <td>1.63919</td>\n      <td>27.00000</td>\n      <td>Number of bank and credit union branches per 1...</td>\n      <td>IDNYC Acceptance</td>\n      <td>0.00000</td>\n      <td>28.00000</td>\n      <td>Percentage of bank &amp; credit union branches tha...</td>\n      <td>Mortgage Origination By Race</td>\n      <td>Asian 6.23%; Black or African American (non-Hi...</td>\n      <td>34.00000</td>\n      <td>Racial/ethnic mix of mortgage loans originated...</td>\n      <td>Bank / Credit Union Utilization</td>\n      <td>0.88900</td>\n      <td>29.00000</td>\n      <td>Percentage of residents with a bank or credit ...</td>\n      <td>Affordable Products</td>\n      <td>0.38889</td>\n      <td>38.00000</td>\n      <td>Percentage of bank &amp; credit union branches off...</td>\n      <td>Mobile Banking Utilization</td>\n      <td>0.20580</td>\n      <td>23.00000</td>\n      <td>Estimated percentage of residents that used mo...</td>\n      <td>NaN</td>\n      <td>NaN</td>\n      <td>NaN</td>\n      <td>NaN</td>\n    </tr>\n    <tr>\n      <th>2</th>\n      <td>2020</td>\n      <td>3701</td>\n      <td>Bronx</td>\n      <td>Riverdale, Fieldston &amp; Kingsbridge</td>\n      <td>BX Community District 8</td>\n      <td>3701</td>\n      <td>0.15200</td>\n      <td>30437</td>\n      <td>0.32400</td>\n      <td>0.12400</td>\n      <td>0.05200</td>\n      <td>0.02300</td>\n      <td>0.47700</td>\n      <td>Financial Shocks</td>\n      <td>Goal 4: Financial Shocks</td>\n      <td>Goal 4: Stable Housing &amp; Capacity to Limit Fin...</td>\n      <td>7.91170</td>\n      <td>10</td>\n      <td>7.49132</td>\n      <td>Top</td>\n      <td>Ability To Borrow At Low Cost</td>\n      <td>0.64</td>\n      <td>21.00000</td>\n      <td>Percentage of residents with a prime or better...</td>\n      <td>Housing Stability</td>\n      <td>0.90800</td>\n      <td>3.00000</td>\n      <td>Percentage of rental housing units that are un...</td>\n      <td>Health Insurance Access</td>\n      <td>0.90700</td>\n      <td>20.00000</td>\n      <td>Percentage of residents with health insurance</td>\n      <td>Rent Burden</td>\n      <td>0.535</td>\n      <td>22.00000</td>\n      <td>Percentage of households that pay more than 30...</td>\n      <td>Severe Rent Burden</td>\n      <td>0.28500</td>\n      <td>18.00000</td>\n      <td>Percentage of households that pay more than 50...</td>\n      <td>Pre-foreclosure Notices</td>\n      <td>37.00000</td>\n      <td>27.00000</td>\n      <td>Number of pre-foreclosure notices issued per 1...</td>\n      <td>Financial Counseling</td>\n      <td>0.00000</td>\n      <td>40.00000</td>\n      <td>Full-Time Equivalent Financial Counselors per ...</td>\n      <td>NaN</td>\n      <td>NaN</td>\n      <td>NaN</td>\n      <td>NaN</td>\n    </tr>\n    <tr>\n      <th>3</th>\n      <td>2020</td>\n      <td>3701</td>\n      <td>Bronx</td>\n      <td>Riverdale, Fieldston &amp; Kingsbridge</td>\n      <td>BX Community District 8</td>\n      <td>3701</td>\n      <td>0.15200</td>\n      <td>30437</td>\n      <td>0.32400</td>\n      <td>0.12400</td>\n      <td>0.05200</td>\n      <td>0.02300</td>\n      <td>0.47700</td>\n      <td>Goods &amp; Services</td>\n      <td>Goal 2: Goods &amp; Services</td>\n      <td>Goal 2: Access to Affordable, High-Quality Goo...</td>\n      <td>0.33472</td>\n      <td>19</td>\n      <td>4.58501</td>\n      <td>Middle</td>\n      <td>Access To Groceries</td>\n      <td>206.27</td>\n      <td>14.00000</td>\n      <td>Supermarket square footage per 100 residents</td>\n      <td>Child Care Capacity</td>\n      <td>0.70504</td>\n      <td>15.00000</td>\n      <td>Percentage of 3- and 4-year-olds enrolled in e...</td>\n      <td>Health Care Access</td>\n      <td>0.12000</td>\n      <td>38.00000</td>\n      <td>Percentage of adults who did not receive neede...</td>\n      <td>Cost Of Transportation ($)</td>\n      <td>671.6008333</td>\n      <td>42.00000</td>\n      <td>Average (mean) amount of money spent monthly o...</td>\n      <td>Cost Of Transportation (%)</td>\n      <td>0.13734</td>\n      <td>38.00000</td>\n      <td>Percentage of median household income spent on...</td>\n      <td>Journey To Work Time</td>\n      <td>44.50000</td>\n      <td>41.00000</td>\n      <td>Average (mean) travel time to work in minutes</td>\n      <td>NaN</td>\n      <td>NaN</td>\n      <td>NaN</td>\n      <td>NaN</td>\n      <td>NaN</td>\n      <td>NaN</td>\n      <td>NaN</td>\n      <td>NaN</td>\n    </tr>\n    <tr>\n      <th>4</th>\n      <td>2020</td>\n      <td>3701</td>\n      <td>Bronx</td>\n      <td>Riverdale, Fieldston &amp; Kingsbridge</td>\n      <td>BX Community District 8</td>\n      <td>3701</td>\n      <td>0.15200</td>\n      <td>30437</td>\n      <td>0.32400</td>\n      <td>0.12400</td>\n      <td>0.05200</td>\n      <td>0.02300</td>\n      <td>0.47700</td>\n      <td>Jobs &amp; Income</td>\n      <td>Goal 3: Jobs &amp; Income</td>\n      <td>Goal 3: Access to Quality Jobs &amp; Income Supports</td>\n      <td>1.78464</td>\n      <td>20</td>\n      <td>3.97086</td>\n      <td>Middle</td>\n      <td>Job Training And Placement Support</td>\n      <td>0</td>\n      <td>37.00000</td>\n      <td>Number of job training and placement programs ...</td>\n      <td>Jobs With Health Insurance</td>\n      <td>0.52198</td>\n      <td>17.00000</td>\n      <td>Percentage of the population that has health i...</td>\n      <td>Labor Force Participation</td>\n      <td>0.63400</td>\n      <td>29.00000</td>\n      <td>Percent of the non-institutionalized people ag...</td>\n      <td>Job Quality</td>\n      <td>37514.89063</td>\n      <td>19.00000</td>\n      <td>Median income of neighborhood residents with 5...</td>\n      <td>Educational Attainment</td>\n      <td>0.77600</td>\n      <td>19.00000</td>\n      <td>Percentage of high school students who graduat...</td>\n      <td>Public Benefits Utilization</td>\n      <td>0.72400</td>\n      <td>28.00000</td>\n      <td>Percentage of people eligible for SNAP receivi...</td>\n      <td>Tax Credit Utilization</td>\n      <td>0.96600</td>\n      <td>9.00000</td>\n      <td>Percentage of eligible Tax Units claiming EITC</td>\n      <td>Adults With High School Diploma</td>\n      <td>0.84503</td>\n      <td>21.00000</td>\n      <td>Percentage of adults with a high school degree...</td>\n    </tr>\n  </tbody>\n</table>\n</div>"
     },
     "execution_count": 27,
     "metadata": {},
     "output_type": "execute_result"
    }
   ],
   "source": [
    "financial_health_data = pd.read_csv(data_sets_and_names[4][-1])\n",
    "financial_health_data.head()"
   ],
   "metadata": {
    "collapsed": false,
    "pycharm": {
     "name": "#%%\n"
    }
   }
  },
  {
   "cell_type": "code",
   "execution_count": 28,
   "outputs": [],
   "source": [
    "selected_columns = [\n",
    "    'Year Published',\n",
    "    'PUMA',\n",
    "    'Borough',\n",
    "    'Neighborhoods',\n",
    "    'CD',\n",
    "    'NYC_Poverty_Rate',\n",
    "    'Median_Income',\n",
    "    'Perc_White',\n",
    "    'Perc_Black',\n",
    "    'Perc_Asian',\n",
    "    'Perc_Other',\n",
    "    'Perc_Hispanic',\n",
    "    'Goal',\n",
    "    'GoalName',\n",
    "    'GoalFullName',\n",
    "    'TotalOutcome',\n",
    "    'GoalRank',\n",
    "    'IndexScore',\n",
    "    'ScoreRank'\n",
    "]\n",
    "\n",
    "column_rename = {\n",
    "    'Year Published': 'year_published',\n",
    "    'GoalName': 'goal_name',\n",
    "    'GoalFullName': 'goal_full_name',\n",
    "    'TotalOutcome': 'total_outcome',\n",
    "    'GoalRank': 'goal_rank',\n",
    "    'IndexScore': 'index_score',\n",
    "    'ScoreRank': 'score_rank'\n",
    "}"
   ],
   "metadata": {
    "collapsed": false,
    "pycharm": {
     "name": "#%%\n"
    }
   }
  },
  {
   "cell_type": "code",
   "execution_count": 29,
   "outputs": [
    {
     "data": {
      "text/plain": "array(['Bronx', 'Manhattan', 'Brooklyn', 'Queens', 'Staten Island'], dtype=object)"
     },
     "execution_count": 29,
     "metadata": {},
     "output_type": "execute_result"
    }
   ],
   "source": [
    "df = (\n",
    "    financial_health_data.loc[:, selected_columns]\n",
    "    .rename(columns=column_rename)\n",
    ")\n",
    "df.columns = df.columns.str.lower()\n",
    "\n",
    "df = (\n",
    "    df\n",
    ")\n",
    "\n",
    "df.borough.unique()"
   ],
   "metadata": {
    "collapsed": false,
    "pycharm": {
     "name": "#%%\n"
    }
   }
  },
  {
   "cell_type": "code",
   "execution_count": 30,
   "outputs": [
    {
     "data": {
      "text/plain": "                                                                                                      total_outcome    goal_rank  index_score score_rank\nborough puma neighborhoods                        goal_full_name                                                                                        \nBronx   3701 Riverdale, Fieldston & Kingsbridge   Goal 1: Access to Affordable, High-Quality Fina...       -3.56042           40      1.91904     Bottom\n                                                  Goal 2: Access to Affordable, High-Quality Good...        0.33472           19      4.58501     Middle\n                                                  Goal 3: Access to Quality Jobs & Income Supports          1.78464           20      3.97086     Middle\n                                                  Goal 4: Stable Housing & Capacity to Limit Fina...        7.91170           10      7.49132        Top\n                                                  Goal 5: Opportunities to Build Assets & Plan fo...       -0.46678           29      5.18472     Middle\n                                                  Majority Race or Ethnicity                                    NaN  No Majority          NaN        NaN\n                                                  Overall Neighborhood Financial Health                     6.00386           18      3.96009        Top\n        3702 Wakefield, Williamsbridge & Woodlawn Goal 1: Access to Affordable, High-Quality Fina...       -4.20833           42      1.70667     Bottom\n                                                  Goal 2: Access to Affordable, High-Quality Good...       -2.62638           37      3.12658     Middle\n                                                  Goal 3: Access to Quality Jobs & Income Supports         -0.12258           25      3.53572     Middle",
      "text/html": "<div>\n<style scoped>\n    .dataframe tbody tr th:only-of-type {\n        vertical-align: middle;\n    }\n\n    .dataframe tbody tr th {\n        vertical-align: top;\n    }\n\n    .dataframe thead th {\n        text-align: right;\n    }\n</style>\n<table border=\"1\" class=\"dataframe\">\n  <thead>\n    <tr style=\"text-align: right;\">\n      <th></th>\n      <th></th>\n      <th></th>\n      <th></th>\n      <th>total_outcome</th>\n      <th>goal_rank</th>\n      <th>index_score</th>\n      <th>score_rank</th>\n    </tr>\n    <tr>\n      <th>borough</th>\n      <th>puma</th>\n      <th>neighborhoods</th>\n      <th>goal_full_name</th>\n      <th></th>\n      <th></th>\n      <th></th>\n      <th></th>\n    </tr>\n  </thead>\n  <tbody>\n    <tr>\n      <th rowspan=\"10\" valign=\"top\">Bronx</th>\n      <th rowspan=\"7\" valign=\"top\">3701</th>\n      <th rowspan=\"7\" valign=\"top\">Riverdale, Fieldston &amp; Kingsbridge</th>\n      <th>Goal 1: Access to Affordable, High-Quality Financial Services</th>\n      <td>-3.56042</td>\n      <td>40</td>\n      <td>1.91904</td>\n      <td>Bottom</td>\n    </tr>\n    <tr>\n      <th>Goal 2: Access to Affordable, High-Quality Goods &amp; Services</th>\n      <td>0.33472</td>\n      <td>19</td>\n      <td>4.58501</td>\n      <td>Middle</td>\n    </tr>\n    <tr>\n      <th>Goal 3: Access to Quality Jobs &amp; Income Supports</th>\n      <td>1.78464</td>\n      <td>20</td>\n      <td>3.97086</td>\n      <td>Middle</td>\n    </tr>\n    <tr>\n      <th>Goal 4: Stable Housing &amp; Capacity to Limit Financial Shocks</th>\n      <td>7.91170</td>\n      <td>10</td>\n      <td>7.49132</td>\n      <td>Top</td>\n    </tr>\n    <tr>\n      <th>Goal 5: Opportunities to Build Assets &amp; Plan for the Future</th>\n      <td>-0.46678</td>\n      <td>29</td>\n      <td>5.18472</td>\n      <td>Middle</td>\n    </tr>\n    <tr>\n      <th>Majority Race or Ethnicity</th>\n      <td>NaN</td>\n      <td>No Majority</td>\n      <td>NaN</td>\n      <td>NaN</td>\n    </tr>\n    <tr>\n      <th>Overall Neighborhood Financial Health</th>\n      <td>6.00386</td>\n      <td>18</td>\n      <td>3.96009</td>\n      <td>Top</td>\n    </tr>\n    <tr>\n      <th rowspan=\"3\" valign=\"top\">3702</th>\n      <th rowspan=\"3\" valign=\"top\">Wakefield, Williamsbridge &amp; Woodlawn</th>\n      <th>Goal 1: Access to Affordable, High-Quality Financial Services</th>\n      <td>-4.20833</td>\n      <td>42</td>\n      <td>1.70667</td>\n      <td>Bottom</td>\n    </tr>\n    <tr>\n      <th>Goal 2: Access to Affordable, High-Quality Goods &amp; Services</th>\n      <td>-2.62638</td>\n      <td>37</td>\n      <td>3.12658</td>\n      <td>Middle</td>\n    </tr>\n    <tr>\n      <th>Goal 3: Access to Quality Jobs &amp; Income Supports</th>\n      <td>-0.12258</td>\n      <td>25</td>\n      <td>3.53572</td>\n      <td>Middle</td>\n    </tr>\n  </tbody>\n</table>\n</div>"
     },
     "execution_count": 30,
     "metadata": {},
     "output_type": "execute_result"
    }
   ],
   "source": [
    "index = ['borough', 'puma', 'neighborhoods', 'goal_full_name']\n",
    "selected_values = ['total_outcome', 'goal_rank', 'index_score', 'score_rank']\n",
    "neighborhood_goal_scores = df.set_index(index).sort_index().loc[:, selected_values]\n",
    "neighborhood_goal_scores.head(10)"
   ],
   "metadata": {
    "collapsed": false,
    "pycharm": {
     "name": "#%%\n"
    }
   }
  },
  {
   "cell_type": "code",
   "execution_count": 31,
   "outputs": [
    {
     "data": {
      "text/plain": "goal_full_name  Goal 1: Access to Affordable, High-Quality Financial Services  Goal 2: Access to Affordable, High-Quality Goods & Services  Goal 3: Access to Quality Jobs & Income Supports  Goal 4: Stable Housing & Capacity to Limit Financial Shocks  Goal 5: Opportunities to Build Assets & Plan for the Future  \\\nborough                                                                                                                                                                                                                                                                                                                  \nBronx                                                     1.49524                                                        3.16374                                                     1.95692                                            2.84402                                                      3.51966             \nBrooklyn                                                  2.52965                                                        3.90758                                                     3.27575                                            4.58291                                                      5.16461             \nManhattan                                                 4.27659                                                        6.19058                                                     5.31723                                            7.89341                                                      5.05081             \nQueens                                                    3.92026                                                        4.30045                                                     3.60558                                            3.23915                                                      6.32758             \nStaten Island                                             3.86536                                                        6.34078                                                     4.60664                                            4.18944                                                      8.75511             \n\ngoal_full_name  Overall Neighborhood Financial Health  \nborough                                                \nBronx                                         1.66120  \nBrooklyn                                      3.18000  \nManhattan                                     5.24490  \nQueens                                        3.67082  \nStaten Island                                 5.05592  ",
      "text/html": "<div>\n<style scoped>\n    .dataframe tbody tr th:only-of-type {\n        vertical-align: middle;\n    }\n\n    .dataframe tbody tr th {\n        vertical-align: top;\n    }\n\n    .dataframe thead th {\n        text-align: right;\n    }\n</style>\n<table border=\"1\" class=\"dataframe\">\n  <thead>\n    <tr style=\"text-align: right;\">\n      <th>goal_full_name</th>\n      <th>Goal 1: Access to Affordable, High-Quality Financial Services</th>\n      <th>Goal 2: Access to Affordable, High-Quality Goods &amp; Services</th>\n      <th>Goal 3: Access to Quality Jobs &amp; Income Supports</th>\n      <th>Goal 4: Stable Housing &amp; Capacity to Limit Financial Shocks</th>\n      <th>Goal 5: Opportunities to Build Assets &amp; Plan for the Future</th>\n      <th>Overall Neighborhood Financial Health</th>\n    </tr>\n    <tr>\n      <th>borough</th>\n      <th></th>\n      <th></th>\n      <th></th>\n      <th></th>\n      <th></th>\n      <th></th>\n    </tr>\n  </thead>\n  <tbody>\n    <tr>\n      <th>Bronx</th>\n      <td>1.49524</td>\n      <td>3.16374</td>\n      <td>1.95692</td>\n      <td>2.84402</td>\n      <td>3.51966</td>\n      <td>1.66120</td>\n    </tr>\n    <tr>\n      <th>Brooklyn</th>\n      <td>2.52965</td>\n      <td>3.90758</td>\n      <td>3.27575</td>\n      <td>4.58291</td>\n      <td>5.16461</td>\n      <td>3.18000</td>\n    </tr>\n    <tr>\n      <th>Manhattan</th>\n      <td>4.27659</td>\n      <td>6.19058</td>\n      <td>5.31723</td>\n      <td>7.89341</td>\n      <td>5.05081</td>\n      <td>5.24490</td>\n    </tr>\n    <tr>\n      <th>Queens</th>\n      <td>3.92026</td>\n      <td>4.30045</td>\n      <td>3.60558</td>\n      <td>3.23915</td>\n      <td>6.32758</td>\n      <td>3.67082</td>\n    </tr>\n    <tr>\n      <th>Staten Island</th>\n      <td>3.86536</td>\n      <td>6.34078</td>\n      <td>4.60664</td>\n      <td>4.18944</td>\n      <td>8.75511</td>\n      <td>5.05592</td>\n    </tr>\n  </tbody>\n</table>\n</div>"
     },
     "execution_count": 31,
     "metadata": {},
     "output_type": "execute_result"
    }
   ],
   "source": [
    "average_score_per_borough = (\n",
    "    neighborhood_goal_scores\n",
    "    .loc[lambda x: ~x.index.get_loc_level(key=['Majority Race or Ethnicity'], level=['goal_full_name'])[0]].loc[:, 'index_score']\n",
    "    .groupby(['borough', 'goal_full_name']).mean()\n",
    "    .unstack(level=-1)\n",
    ")\n",
    "average_score_per_borough"
   ],
   "metadata": {
    "collapsed": false,
    "pycharm": {
     "name": "#%%\n"
    }
   }
  },
  {
   "cell_type": "code",
   "execution_count": 8,
   "outputs": [
    {
     "data": {
      "text/plain": "array([1.49523686, 3.16374297, 1.9569216 , 2.84401575, 3.51965817, 1.66119548])"
     },
     "execution_count": 8,
     "metadata": {},
     "output_type": "execute_result"
    }
   ],
   "source": [
    "t = [borough for borough in average_score_per_borough.iterrows()]\n",
    "t[0][1].values"
   ],
   "metadata": {
    "collapsed": false,
    "pycharm": {
     "name": "#%%\n"
    }
   }
  },
  {
   "cell_type": "code",
   "execution_count": 9,
   "outputs": [],
   "source": [
    "import plotly.graph_objects as go\n",
    "fig = go.Figure()\n",
    "\n",
    "for borough, scores in average_score_per_borough.iterrows():\n",
    "\n",
    "    fig.add_trace(\n",
    "        go.Scatterpolar(\n",
    "            r=scores.values,\n",
    "            theta=scores.index.values,\n",
    "            fill='toself',\n",
    "            name=borough,\n",
    "            opacity=0.5\n",
    "        )\n",
    "    )\n",
    "\n",
    "fig.update_layout(\n",
    "    title=\"Average NYC 5 Borough's Neighborhood Financial Health Index Score\",\n",
    "    font=dict(size=14),\n",
    "    legend=dict(title='NYC Borough'),\n",
    "    polar=dict(\n",
    "        radialaxis=dict(visible=True, range=[0, 10])\n",
    "    ),\n",
    ")\n",
    "\n",
    "fig.show()"
   ],
   "metadata": {
    "collapsed": false,
    "pycharm": {
     "name": "#%%\n"
    }
   }
  },
  {
   "cell_type": "code",
   "execution_count": 37,
   "outputs": [
    {
     "data": {
      "text/plain": "goal_full_name                                            Goal 1: Access to Affordable, High-Quality Financial Services  Goal 2: Access to Affordable, High-Quality Goods & Services  Goal 3: Access to Quality Jobs & Income Supports  Goal 4: Stable Housing & Capacity to Limit Financial Shocks  \\\nborough       neighborhoods                                                                                                                                                                                                                                                                           \nStaten Island New Springville & South Beach                                                         4.08094                                                        9.69241                                                     4.58739                                            3.49821             \n              Port Richmond, Stapleton & Mariners Harbor                                            3.75808                                                        3.97168                                                     4.28893                                            3.20794             \n              Tottenville, Great Kills & Annadale                                                   3.75706                                                        5.35825                                                     4.94360                                            5.86216             \n\ngoal_full_name                                            Goal 5: Opportunities to Build Assets & Plan for the Future  Overall Neighborhood Financial Health  \nborough       neighborhoods                                                                                                                                   \nStaten Island New Springville & South Beach                                                         8.82000                                          5.48999  \n              Port Richmond, Stapleton & Mariners Harbor                                            7.75760                                          4.13478  \n              Tottenville, Great Kills & Annadale                                                   9.68772                                          5.54297  ",
      "text/html": "<div>\n<style scoped>\n    .dataframe tbody tr th:only-of-type {\n        vertical-align: middle;\n    }\n\n    .dataframe tbody tr th {\n        vertical-align: top;\n    }\n\n    .dataframe thead th {\n        text-align: right;\n    }\n</style>\n<table border=\"1\" class=\"dataframe\">\n  <thead>\n    <tr style=\"text-align: right;\">\n      <th></th>\n      <th>goal_full_name</th>\n      <th>Goal 1: Access to Affordable, High-Quality Financial Services</th>\n      <th>Goal 2: Access to Affordable, High-Quality Goods &amp; Services</th>\n      <th>Goal 3: Access to Quality Jobs &amp; Income Supports</th>\n      <th>Goal 4: Stable Housing &amp; Capacity to Limit Financial Shocks</th>\n      <th>Goal 5: Opportunities to Build Assets &amp; Plan for the Future</th>\n      <th>Overall Neighborhood Financial Health</th>\n    </tr>\n    <tr>\n      <th>borough</th>\n      <th>neighborhoods</th>\n      <th></th>\n      <th></th>\n      <th></th>\n      <th></th>\n      <th></th>\n      <th></th>\n    </tr>\n  </thead>\n  <tbody>\n    <tr>\n      <th rowspan=\"3\" valign=\"top\">Staten Island</th>\n      <th>New Springville &amp; South Beach</th>\n      <td>4.08094</td>\n      <td>9.69241</td>\n      <td>4.58739</td>\n      <td>3.49821</td>\n      <td>8.82000</td>\n      <td>5.48999</td>\n    </tr>\n    <tr>\n      <th>Port Richmond, Stapleton &amp; Mariners Harbor</th>\n      <td>3.75808</td>\n      <td>3.97168</td>\n      <td>4.28893</td>\n      <td>3.20794</td>\n      <td>7.75760</td>\n      <td>4.13478</td>\n    </tr>\n    <tr>\n      <th>Tottenville, Great Kills &amp; Annadale</th>\n      <td>3.75706</td>\n      <td>5.35825</td>\n      <td>4.94360</td>\n      <td>5.86216</td>\n      <td>9.68772</td>\n      <td>5.54297</td>\n    </tr>\n  </tbody>\n</table>\n</div>"
     },
     "execution_count": 37,
     "metadata": {},
     "output_type": "execute_result"
    }
   ],
   "source": [
    "average_score_per_staten_island_neighborhood"
   ],
   "metadata": {
    "collapsed": false,
    "pycharm": {
     "name": "#%%\n"
    }
   }
  },
  {
   "cell_type": "code",
   "execution_count": 39,
   "outputs": [],
   "source": [
    "average_score_per_staten_island_neighborhood = (\n",
    "    neighborhood_goal_scores\n",
    "    .loc[lambda x: ~x.index.get_loc_level(key=['Majority Race or Ethnicity'], level=['goal_full_name'])[0]].loc[:, 'index_score']\n",
    "    .groupby(['borough', 'neighborhoods', 'goal_full_name']).mean()\n",
    "    .unstack(level=-1)\n",
    "    .loc[lambda x: x.index.get_loc_level(key=['Staten Island'], level=['borough'])[0]]\n",
    ")\n",
    "average_score_per_staten_island_neighborhood\n",
    "\n",
    "fig = go.Figure()\n",
    "for si_neighborhood, scores in average_score_per_staten_island_neighborhood.reset_index('borough', drop=True).iterrows():\n",
    "\n",
    "    fig.add_trace(\n",
    "        go.Scatterpolar(\n",
    "            r=scores.values,\n",
    "            theta=scores.index.values,\n",
    "            fill='toself',\n",
    "            name=si_neighborhood,\n",
    "            opacity=0.5\n",
    "        )\n",
    "    )\n",
    "\n",
    "fig.update_layout(\n",
    "    title=\"Average Staten Island Neighborhood Financial Health Index Score\",\n",
    "    font=dict(size=14),\n",
    "    legend=dict(title='NYC Borough'),\n",
    "    polar=dict(\n",
    "        radialaxis=dict(visible=True, range=[0, 10])\n",
    "    ),\n",
    ")\n",
    "\n",
    "fig.show()"
   ],
   "metadata": {
    "collapsed": false,
    "pycharm": {
     "name": "#%%\n"
    }
   }
  },
  {
   "cell_type": "code",
   "execution_count": 10,
   "outputs": [
    {
     "data": {
      "text/plain": "                                                        nyc_poverty_rate  median_income  perc_white  perc_black  perc_asian  perc_other  perc_hispanic\nborough puma neighborhoods                                                                                                                            \nBronx   3701 Riverdale, Fieldston & Kingsbridge                  0.15200          30437     0.32400     0.12400     0.05200     0.02300        0.47700\n        3702 Wakefield, Williamsbridge & Woodlawn                0.23200          26136     0.06900     0.65500     0.02600     0.02300        0.22600\n        3703 Coop City, Pelham Bay & Schuylerville               0.14000          31573     0.29300     0.28500     0.03000     0.02200        0.37100\n        3704 Pelham Parkway, Morris Park & Laconia               0.20500          25358     0.21800     0.21500     0.07600     0.02200        0.47000\n        3705 Belmont, Crotona Park East & East Tremont           0.30800          14213     0.04500     0.30100     0.00800     0.01100        0.63500",
      "text/html": "<div>\n<style scoped>\n    .dataframe tbody tr th:only-of-type {\n        vertical-align: middle;\n    }\n\n    .dataframe tbody tr th {\n        vertical-align: top;\n    }\n\n    .dataframe thead th {\n        text-align: right;\n    }\n</style>\n<table border=\"1\" class=\"dataframe\">\n  <thead>\n    <tr style=\"text-align: right;\">\n      <th></th>\n      <th></th>\n      <th></th>\n      <th>nyc_poverty_rate</th>\n      <th>median_income</th>\n      <th>perc_white</th>\n      <th>perc_black</th>\n      <th>perc_asian</th>\n      <th>perc_other</th>\n      <th>perc_hispanic</th>\n    </tr>\n    <tr>\n      <th>borough</th>\n      <th>puma</th>\n      <th>neighborhoods</th>\n      <th></th>\n      <th></th>\n      <th></th>\n      <th></th>\n      <th></th>\n      <th></th>\n      <th></th>\n    </tr>\n  </thead>\n  <tbody>\n    <tr>\n      <th rowspan=\"5\" valign=\"top\">Bronx</th>\n      <th>3701</th>\n      <th>Riverdale, Fieldston &amp; Kingsbridge</th>\n      <td>0.15200</td>\n      <td>30437</td>\n      <td>0.32400</td>\n      <td>0.12400</td>\n      <td>0.05200</td>\n      <td>0.02300</td>\n      <td>0.47700</td>\n    </tr>\n    <tr>\n      <th>3702</th>\n      <th>Wakefield, Williamsbridge &amp; Woodlawn</th>\n      <td>0.23200</td>\n      <td>26136</td>\n      <td>0.06900</td>\n      <td>0.65500</td>\n      <td>0.02600</td>\n      <td>0.02300</td>\n      <td>0.22600</td>\n    </tr>\n    <tr>\n      <th>3703</th>\n      <th>Coop City, Pelham Bay &amp; Schuylerville</th>\n      <td>0.14000</td>\n      <td>31573</td>\n      <td>0.29300</td>\n      <td>0.28500</td>\n      <td>0.03000</td>\n      <td>0.02200</td>\n      <td>0.37100</td>\n    </tr>\n    <tr>\n      <th>3704</th>\n      <th>Pelham Parkway, Morris Park &amp; Laconia</th>\n      <td>0.20500</td>\n      <td>25358</td>\n      <td>0.21800</td>\n      <td>0.21500</td>\n      <td>0.07600</td>\n      <td>0.02200</td>\n      <td>0.47000</td>\n    </tr>\n    <tr>\n      <th>3705</th>\n      <th>Belmont, Crotona Park East &amp; East Tremont</th>\n      <td>0.30800</td>\n      <td>14213</td>\n      <td>0.04500</td>\n      <td>0.30100</td>\n      <td>0.00800</td>\n      <td>0.01100</td>\n      <td>0.63500</td>\n    </tr>\n  </tbody>\n</table>\n</div>"
     },
     "execution_count": 10,
     "metadata": {},
     "output_type": "execute_result"
    }
   ],
   "source": [
    "index = ['borough', 'puma', 'neighborhoods']\n",
    "selected_values = ['nyc_poverty_rate', 'median_income', 'perc_white', 'perc_black', 'perc_asian', 'perc_other', 'perc_hispanic']\n",
    "demographics_and_poverty = (\n",
    "    df.set_index(index).sort_index().loc[:, selected_values].drop_duplicates()\n",
    ")\n",
    "demographics_and_poverty.head()\n",
    "# demographics_and_poverty.to_csv(r'C:\\Users\\austi\\Documents\\GitHub_Repos\\Public_Projects\\Case Studies\\P72\\cleaned_data\\puma_demographics_and_poverty.csv')"
   ],
   "metadata": {
    "collapsed": false,
    "pycharm": {
     "name": "#%%\n"
    }
   }
  },
  {
   "cell_type": "code",
   "execution_count": 11,
   "outputs": [],
   "source": [
    "ethnicity = ['white', 'black', 'asian', 'other', 'hispanic']\n",
    "ethnicity_column_rename = {f\"perc_{i}\": i.title() for i in ethnicity}"
   ],
   "metadata": {
    "collapsed": false,
    "pycharm": {
     "name": "#%%\n"
    }
   }
  },
  {
   "cell_type": "code",
   "execution_count": 12,
   "outputs": [],
   "source": [
    "ethnicity_grouping = (\n",
    "    demographics_and_poverty.groupby(['borough']).mean().loc[:, ethnicity_column_rename.keys()]\n",
    "    .rename(columns=ethnicity_column_rename)\n",
    ")\n",
    "# ethnicity_grouping\n",
    "\n",
    "fig = go.Figure()\n",
    "\n",
    "for borough, ethnicity_breakdown in ethnicity_grouping.iterrows():\n",
    "\n",
    "    fig.add_trace(\n",
    "        go.Scatterpolar(\n",
    "            r=ethnicity_breakdown.values,\n",
    "            theta=ethnicity_breakdown.index.values,\n",
    "            fill='toself',\n",
    "            name=borough,\n",
    "            opacity=0.5\n",
    "        )\n",
    "    )\n",
    "\n",
    "fig.update_layout(\n",
    "    title=\"Average NYC Borough Neighborhood Ethnicity Makeup\",\n",
    "    legend=dict(title='NYC Borough'),\n",
    "    font=dict(size=14),\n",
    "    polar=dict(\n",
    "        radialaxis=dict(visible=True, range=[0, .7])\n",
    "    ),\n",
    ")\n",
    "\n",
    "fig.show()"
   ],
   "metadata": {
    "collapsed": false,
    "pycharm": {
     "name": "#%%\n"
    }
   }
  },
  {
   "cell_type": "code",
   "execution_count": 21,
   "outputs": [],
   "source": [
    "poverty_and_median_income = (\n",
    "    demographics_and_poverty.groupby(['borough']).mean().loc[:, lambda x: ~x.columns.isin(ethnicity_column_rename.keys())]\n",
    "    .rename(columns={'nyc_poverty_rate': 'NYC Poverty Rate', 'median_income': 'Median Income'})\n",
    ")\n",
    "poverty_and_median_income\n",
    "\n",
    "fig = go.Figure(\n",
    "    data = [\n",
    "        go.Bar(\n",
    "            name='NYC Poverty Rate',\n",
    "            x=poverty_and_median_income.index.values,\n",
    "            y=poverty_and_median_income[\"NYC Poverty Rate\"],\n",
    "            yaxis='y', offsetgroup=1,\n",
    "            text=(\n",
    "                poverty_and_median_income[\"NYC Poverty Rate\"]\n",
    "                .apply(lambda x: \"{0:.0f}%\".format(x * 100))\n",
    "            ),\n",
    "            marker={'color': '#FECB52'}\n",
    "        ),\n",
    "\n",
    "        go.Bar(\n",
    "            name='Median Income',\n",
    "            x=poverty_and_median_income.index.values,\n",
    "            y=poverty_and_median_income[\"Median Income\"],\n",
    "            text=(\n",
    "                poverty_and_median_income[\"Median Income\"]\n",
    "                .apply(lambda x: \"${:.1f}k\".format((x/1000)))\n",
    "            ),\n",
    "            yaxis='y2', offsetgroup=2,\n",
    "            marker={'color': '#B6E880'}\n",
    "        ),\n",
    "    ],\n",
    "    layout={\n",
    "        'yaxis': {'title': 'NYC Poverty Rate Axis'},\n",
    "        'yaxis2': {'title': 'Median Income Axis', 'overlaying': 'y', 'side': 'right'}\n",
    "    }\n",
    ")\n",
    "# Change the bar mode\n",
    "fig.update_layout(barmode='group')\n",
    "fig.show()\n"
   ],
   "metadata": {
    "collapsed": false,
    "pycharm": {
     "name": "#%%\n"
    }
   }
  },
  {
   "cell_type": "code",
   "execution_count": 19,
   "outputs": [
    {
     "data": {
      "text/plain": "Bar({\n    'name': 'NYC Poverty Rate',\n    'offsetgroup': '1',\n    'text': array(['25%', '22%', '15%', '20%', '16%'], dtype=object),\n    'x': array(['Bronx', 'Brooklyn', 'Manhattan', 'Queens', 'Staten Island'],\n               dtype=object),\n    'y': array([0.2525    , 0.21516667, 0.1515    , 0.19935714, 0.15666667]),\n    'yaxis': 'y'\n})"
     },
     "execution_count": 19,
     "metadata": {},
     "output_type": "execute_result"
    }
   ],
   "source": [],
   "metadata": {
    "collapsed": false,
    "pycharm": {
     "name": "#%%\n"
    }
   }
  },
  {
   "cell_type": "code",
   "execution_count": 51,
   "outputs": [
    {
     "data": {
      "text/plain": "  borough  puma      neighborhood\n0   Bronx  3701         Riverdale\n1   Bronx  3701        Fieldston \n2   Bronx  3701       Kingsbridge\n3   Bronx  3702         Wakefield\n4   Bronx  3702   Williamsbridge ",
      "text/html": "<div>\n<style scoped>\n    .dataframe tbody tr th:only-of-type {\n        vertical-align: middle;\n    }\n\n    .dataframe tbody tr th {\n        vertical-align: top;\n    }\n\n    .dataframe thead th {\n        text-align: right;\n    }\n</style>\n<table border=\"1\" class=\"dataframe\">\n  <thead>\n    <tr style=\"text-align: right;\">\n      <th></th>\n      <th>borough</th>\n      <th>puma</th>\n      <th>neighborhood</th>\n    </tr>\n  </thead>\n  <tbody>\n    <tr>\n      <th>0</th>\n      <td>Bronx</td>\n      <td>3701</td>\n      <td>Riverdale</td>\n    </tr>\n    <tr>\n      <th>1</th>\n      <td>Bronx</td>\n      <td>3701</td>\n      <td>Fieldston</td>\n    </tr>\n    <tr>\n      <th>2</th>\n      <td>Bronx</td>\n      <td>3701</td>\n      <td>Kingsbridge</td>\n    </tr>\n    <tr>\n      <th>3</th>\n      <td>Bronx</td>\n      <td>3702</td>\n      <td>Wakefield</td>\n    </tr>\n    <tr>\n      <th>4</th>\n      <td>Bronx</td>\n      <td>3702</td>\n      <td>Williamsbridge</td>\n    </tr>\n  </tbody>\n</table>\n</div>"
     },
     "execution_count": 51,
     "metadata": {},
     "output_type": "execute_result"
    }
   ],
   "source": [
    "neighborhood_puma_mapping = (\n",
    "    df.loc[:, ['borough', 'puma', 'neighborhoods']]\n",
    "    .set_index(['borough', 'puma'])\n",
    "    .squeeze().str.replace(\"&\", \",\")\n",
    "    .str.split(',', expand=True)\n",
    "    .rename(columns={0: 'neighborhood', 1: 'neighborhood', 2: 'neighborhood'})\n",
    "    # .squeeze()\n",
    "    .rename_axis('neighborhood', axis=1)\n",
    "    .drop_duplicates()\n",
    "    .stack()\n",
    "    .reset_index('neighborhood', drop=True)\n",
    "    .to_frame('neighborhood')\n",
    "    .reset_index()\n",
    "    # .rename(columns={'data': 'neighborhood'})\n",
    "    # .unstack('')\n",
    ")\n",
    "neighborhood_puma_mapping.head()"
   ],
   "metadata": {
    "collapsed": false,
    "pycharm": {
     "name": "#%%\n"
    }
   }
  },
  {
   "cell_type": "code",
   "execution_count": 52,
   "outputs": [],
   "source": [
    "neighborhood_zipcode_mapping = (\n",
    "    pd.read_csv('https://raw.githubusercontent.com/erikgregorywebb/nyc-housing/master/Data/nyc-zip-codes.csv')\n",
    ")\n",
    "neighborhood_zipcode_mapping.columns = neighborhood_zipcode_mapping.columns.str.lower()"
   ],
   "metadata": {
    "collapsed": false,
    "pycharm": {
     "name": "#%%\n"
    }
   }
  },
  {
   "cell_type": "code",
   "execution_count": 53,
   "outputs": [
    {
     "data": {
      "text/plain": "  borough            neighborhood  zipcode\n0   Bronx           Central Bronx    10453\n1   Bronx           Central Bronx    10457\n2   Bronx           Central Bronx    10460\n3   Bronx  Bronx Park and Fordham    10458\n4   Bronx  Bronx Park and Fordham    10467",
      "text/html": "<div>\n<style scoped>\n    .dataframe tbody tr th:only-of-type {\n        vertical-align: middle;\n    }\n\n    .dataframe tbody tr th {\n        vertical-align: top;\n    }\n\n    .dataframe thead th {\n        text-align: right;\n    }\n</style>\n<table border=\"1\" class=\"dataframe\">\n  <thead>\n    <tr style=\"text-align: right;\">\n      <th></th>\n      <th>borough</th>\n      <th>neighborhood</th>\n      <th>zipcode</th>\n    </tr>\n  </thead>\n  <tbody>\n    <tr>\n      <th>0</th>\n      <td>Bronx</td>\n      <td>Central Bronx</td>\n      <td>10453</td>\n    </tr>\n    <tr>\n      <th>1</th>\n      <td>Bronx</td>\n      <td>Central Bronx</td>\n      <td>10457</td>\n    </tr>\n    <tr>\n      <th>2</th>\n      <td>Bronx</td>\n      <td>Central Bronx</td>\n      <td>10460</td>\n    </tr>\n    <tr>\n      <th>3</th>\n      <td>Bronx</td>\n      <td>Bronx Park and Fordham</td>\n      <td>10458</td>\n    </tr>\n    <tr>\n      <th>4</th>\n      <td>Bronx</td>\n      <td>Bronx Park and Fordham</td>\n      <td>10467</td>\n    </tr>\n  </tbody>\n</table>\n</div>"
     },
     "execution_count": 53,
     "metadata": {},
     "output_type": "execute_result"
    }
   ],
   "source": [
    "neighborhood_zipcode_mapping.head()"
   ],
   "metadata": {
    "collapsed": false,
    "pycharm": {
     "name": "#%%\n"
    }
   }
  },
  {
   "cell_type": "code",
   "execution_count": null,
   "outputs": [],
   "source": [],
   "metadata": {
    "collapsed": false,
    "pycharm": {
     "name": "#%%\n"
    }
   }
  }
 ],
 "metadata": {
  "kernelspec": {
   "display_name": "Python 3",
   "language": "python",
   "name": "python3"
  },
  "language_info": {
   "codemirror_mode": {
    "name": "ipython",
    "version": 2
   },
   "file_extension": ".py",
   "mimetype": "text/x-python",
   "name": "python",
   "nbconvert_exporter": "python",
   "pygments_lexer": "ipython2",
   "version": "2.7.6"
  }
 },
 "nbformat": 4,
 "nbformat_minor": 0
}